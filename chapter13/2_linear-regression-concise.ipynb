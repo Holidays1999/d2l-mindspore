{
 "cells": [
  {
   "cell_type": "code",
   "execution_count": 1,
   "metadata": {},
   "outputs": [],
   "source": [
    "import numpy as np\n",
    "import mindspore\n",
    "import mindspore.dataset as ds\n",
    "import mindspore.ops as ops\n",
    "from mindspore import Tensor, grad\n",
    "from d2l import mindspore as d2l\n",
    "\n",
    "true_w = np.array([2, -3.4])\n",
    "true_b = 4.2\n",
    "features, labels = d2l.synthetic_data(true_w, true_b, 1000)"
   ]
  },
  {
   "cell_type": "code",
   "execution_count": 2,
   "metadata": {},
   "outputs": [],
   "source": [
    "class SyntheticData():\n",
    "    def __init__(self):\n",
    "        self.features, self.labels = d2l.synthetic_data(true_w, true_b, 1000)\n",
    "\n",
    "    def __getitem__(self, index):\n",
    "        return self.features[index], self.labels[index]\n",
    "    \n",
    "    def __len__(self):\n",
    "        return len(self.labels)\n",
    "\n",
    "def load_array(data_arrays, column_names, batch_size, is_train=True):  \n",
    "    \"\"\"构造一个MindSpore数据迭代器。\"\"\"\n",
    "    dataset = ds.GeneratorDataset(data_arrays, column_names, shuffle=is_train)\n",
    "    dataset = dataset.batch(batch_size)\n",
    "    return dataset\n",
    "\n",
    "batch_size = 10\n",
    "data_iter = SyntheticData()\n",
    "dataset = load_array(data_iter, ['features', 'labels'], batch_size)"
   ]
  },
  {
   "cell_type": "code",
   "execution_count": 3,
   "metadata": {},
   "outputs": [
    {
     "data": {
      "text/plain": [
       "[Tensor(shape=[10, 2], dtype=Float32, value=\n",
       " [[ 7.03716576e-01,  1.00144124e+00],\n",
       "  [ 3.32886189e-01, -7.97989126e-03],\n",
       "  [ 3.31016958e-01,  8.65937650e-01],\n",
       "  ...\n",
       "  [ 8.96057963e-01, -9.02906895e-01],\n",
       "  [-1.03857458e+00,  1.72937885e-01],\n",
       "  [-2.14799657e-01, -2.81701058e-01]]),\n",
       " Tensor(shape=[10, 1], dtype=Float32, value=\n",
       " [[ 2.20603085e+00],\n",
       "  [ 4.88670349e+00],\n",
       "  [ 1.90988481e+00],\n",
       "  ...\n",
       "  [ 9.03856850e+00],\n",
       "  [ 1.52406561e+00],\n",
       "  [ 4.72717428e+00]])]"
      ]
     },
     "execution_count": 3,
     "metadata": {},
     "output_type": "execute_result"
    }
   ],
   "source": [
    "next(iter(dataset))"
   ]
  },
  {
   "cell_type": "code",
   "execution_count": 4,
   "metadata": {},
   "outputs": [],
   "source": [
    "# nn是神经网络的缩写\n",
    "from mindspore import nn\n",
    "from mindspore.common.initializer import initializer, Normal\n",
    "\n",
    "net = nn.SequentialCell([nn.Dense(2, 1)])"
   ]
  },
  {
   "cell_type": "code",
   "execution_count": 5,
   "metadata": {},
   "outputs": [],
   "source": [
    "net[0].weight = initializer(Normal(), net[0].weight.shape, mindspore.float32)\n",
    "net[0].bias = initializer('zero', net[0].bias.shape, mindspore.float32)"
   ]
  },
  {
   "cell_type": "code",
   "execution_count": 6,
   "metadata": {},
   "outputs": [],
   "source": [
    "loss = nn.MSELoss()"
   ]
  },
  {
   "cell_type": "code",
   "execution_count": 7,
   "metadata": {},
   "outputs": [],
   "source": [
    "optimizer = nn.SGD(net.trainable_params(), learning_rate=0.03)"
   ]
  },
  {
   "cell_type": "code",
   "execution_count": 8,
   "metadata": {},
   "outputs": [
    {
     "name": "stdout",
     "output_type": "stream",
     "text": [
      "epoch 1, loss 0.000161\n",
      "epoch 2, loss 0.000107\n",
      "epoch 3, loss 0.000108\n"
     ]
    }
   ],
   "source": [
    "net_with_loss = nn.WithLossCell(net, loss)\n",
    "num_epochs = 3\n",
    "for epoch in range(num_epochs):\n",
    "    for X, y in dataset:\n",
    "        l = net_with_loss(X, y)\n",
    "        grad_fn = grad(net_with_loss, grad_position=None, weights=optimizer.parameters)\n",
    "        grads = grad_fn(X, y)\n",
    "        loss = ops.depend(l, optimizer(grads))\n",
    "    l = net_with_loss(mindspore.Tensor(data_iter.features), mindspore.Tensor(data_iter.labels))\n",
    "    print(f'epoch {epoch + 1}, loss {l.asnumpy():f}')"
   ]
  },
  {
   "cell_type": "code",
   "execution_count": 9,
   "metadata": {},
   "outputs": [
    {
     "name": "stdout",
     "output_type": "stream",
     "text": [
      "w的估计误差： [Tensor(shape=[], dtype=Float32, value= -0.000918388)\n",
      " Tensor(shape=[], dtype=Float32, value= -0.000197887)]\n",
      "b的估计误差： [-0.00036192]\n"
     ]
    }
   ],
   "source": [
    "w = net[0].weight.data\n",
    "print('w的估计误差：', true_w - w.reshape(true_w.shape))\n",
    "b = net[0].bias.data\n",
    "print('b的估计误差：', true_b - b)"
   ]
  },
  {
   "cell_type": "code",
   "execution_count": null,
   "metadata": {},
   "outputs": [],
   "source": []
  }
 ],
 "metadata": {
  "kernelspec": {
   "display_name": "Python [conda env:mindspore2.0]",
   "language": "python",
   "name": "conda-env-mindspore2.0-py"
  },
  "language_info": {
   "codemirror_mode": {
    "name": "ipython",
    "version": 3
   },
   "file_extension": ".py",
   "mimetype": "text/x-python",
   "name": "python",
   "nbconvert_exporter": "python",
   "pygments_lexer": "ipython3",
   "version": "3.8.15"
  }
 },
 "nbformat": 4,
 "nbformat_minor": 4
}
